{
 "cells": [
  {
   "cell_type": "code",
   "execution_count": 29,
   "id": "lyric-olympus",
   "metadata": {},
   "outputs": [],
   "source": [
    "import csv\n",
    "import numpy as np\n",
    "import matplotlib.pyplot as plt\n",
    "import pandas as pd\n",
    "from sklearn.model_selection import train_test_split\n",
    "from sklearn.linear_model import LinearRegression\n",
    "from sklearn.metrics import mean_squared_error, r2_score"
   ]
  },
  {
   "cell_type": "code",
   "execution_count": 61,
   "id": "85cfe0aa",
   "metadata": {},
   "outputs": [],
   "source": [
    "#read the data from the excel file\n",
    "df = pd.read_excel('V_net.xlsx')\n",
    "df = df[['v_net','Flowrate']]"
   ]
  },
  {
   "cell_type": "code",
   "execution_count": 31,
   "id": "68ebff7c",
   "metadata": {},
   "outputs": [
    {
     "data": {
      "text/html": [
       "<div>\n",
       "<style scoped>\n",
       "    .dataframe tbody tr th:only-of-type {\n",
       "        vertical-align: middle;\n",
       "    }\n",
       "\n",
       "    .dataframe tbody tr th {\n",
       "        vertical-align: top;\n",
       "    }\n",
       "\n",
       "    .dataframe thead th {\n",
       "        text-align: right;\n",
       "    }\n",
       "</style>\n",
       "<table border=\"1\" class=\"dataframe\">\n",
       "  <thead>\n",
       "    <tr style=\"text-align: right;\">\n",
       "      <th></th>\n",
       "      <th>v_net</th>\n",
       "      <th>Flowrate</th>\n",
       "    </tr>\n",
       "  </thead>\n",
       "  <tbody>\n",
       "    <tr>\n",
       "      <th>v_net</th>\n",
       "      <td>1.000000</td>\n",
       "      <td>0.006146</td>\n",
       "    </tr>\n",
       "    <tr>\n",
       "      <th>Flowrate</th>\n",
       "      <td>0.006146</td>\n",
       "      <td>1.000000</td>\n",
       "    </tr>\n",
       "  </tbody>\n",
       "</table>\n",
       "</div>"
      ],
      "text/plain": [
       "             v_net  Flowrate\n",
       "v_net     1.000000  0.006146\n",
       "Flowrate  0.006146  1.000000"
      ]
     },
     "execution_count": 31,
     "metadata": {},
     "output_type": "execute_result"
    }
   ],
   "source": [
    "# calculate correlation\n",
    "df[np.array(df.columns)].corr()"
   ]
  },
  {
   "cell_type": "code",
   "execution_count": 91,
   "id": "5eefb5dc",
   "metadata": {},
   "outputs": [
    {
     "name": "stdout",
     "output_type": "stream",
     "text": [
      "Score:  8.69758099265594e-05\n"
     ]
    }
   ],
   "source": [
    "# remove NaN values\n",
    "df.dropna(inplace = True)\n",
    "\n",
    "X = df.iloc[:, 0:1].values\n",
    "y = df.iloc[:, 1].values\n",
    "  \n",
    "# split the data into training and testing sets\n",
    "X_train, X_test, y_train, y_test = train_test_split(X, y, test_size = 0.2)\n",
    "\n",
    "regr = LinearRegression()\n",
    "regr.fit(X_train, y_train)\n",
    "print(\"Score: \", regr.score(X_test, y_test))"
   ]
  },
  {
   "cell_type": "code",
   "execution_count": 144,
   "id": "32049d2d",
   "metadata": {},
   "outputs": [],
   "source": [
    "#read the data from the excel file\n",
    "df = pd.read_excel('vib_with_current_resampled.xlsx')\n",
    "df = df[['PWRA','PWRB','PWRC','v_net','Flowrate']]"
   ]
  },
  {
   "cell_type": "code",
   "execution_count": 145,
   "id": "c0ac9bf6",
   "metadata": {},
   "outputs": [
    {
     "data": {
      "text/html": [
       "<div>\n",
       "<style scoped>\n",
       "    .dataframe tbody tr th:only-of-type {\n",
       "        vertical-align: middle;\n",
       "    }\n",
       "\n",
       "    .dataframe tbody tr th {\n",
       "        vertical-align: top;\n",
       "    }\n",
       "\n",
       "    .dataframe thead th {\n",
       "        text-align: right;\n",
       "    }\n",
       "</style>\n",
       "<table border=\"1\" class=\"dataframe\">\n",
       "  <thead>\n",
       "    <tr style=\"text-align: right;\">\n",
       "      <th></th>\n",
       "      <th>PWRA</th>\n",
       "      <th>PWRB</th>\n",
       "      <th>PWRC</th>\n",
       "      <th>v_net</th>\n",
       "      <th>Flowrate</th>\n",
       "    </tr>\n",
       "  </thead>\n",
       "  <tbody>\n",
       "    <tr>\n",
       "      <th>PWRA</th>\n",
       "      <td>1.000000</td>\n",
       "      <td>0.999891</td>\n",
       "      <td>0.999849</td>\n",
       "      <td>0.025214</td>\n",
       "      <td>0.249503</td>\n",
       "    </tr>\n",
       "    <tr>\n",
       "      <th>PWRB</th>\n",
       "      <td>0.999891</td>\n",
       "      <td>1.000000</td>\n",
       "      <td>0.999866</td>\n",
       "      <td>0.025074</td>\n",
       "      <td>0.249053</td>\n",
       "    </tr>\n",
       "    <tr>\n",
       "      <th>PWRC</th>\n",
       "      <td>0.999849</td>\n",
       "      <td>0.999866</td>\n",
       "      <td>1.000000</td>\n",
       "      <td>0.024764</td>\n",
       "      <td>0.248806</td>\n",
       "    </tr>\n",
       "    <tr>\n",
       "      <th>v_net</th>\n",
       "      <td>0.025214</td>\n",
       "      <td>0.025074</td>\n",
       "      <td>0.024764</td>\n",
       "      <td>1.000000</td>\n",
       "      <td>0.007333</td>\n",
       "    </tr>\n",
       "    <tr>\n",
       "      <th>Flowrate</th>\n",
       "      <td>0.249503</td>\n",
       "      <td>0.249053</td>\n",
       "      <td>0.248806</td>\n",
       "      <td>0.007333</td>\n",
       "      <td>1.000000</td>\n",
       "    </tr>\n",
       "  </tbody>\n",
       "</table>\n",
       "</div>"
      ],
      "text/plain": [
       "              PWRA      PWRB      PWRC     v_net  Flowrate\n",
       "PWRA      1.000000  0.999891  0.999849  0.025214  0.249503\n",
       "PWRB      0.999891  1.000000  0.999866  0.025074  0.249053\n",
       "PWRC      0.999849  0.999866  1.000000  0.024764  0.248806\n",
       "v_net     0.025214  0.025074  0.024764  1.000000  0.007333\n",
       "Flowrate  0.249503  0.249053  0.248806  0.007333  1.000000"
      ]
     },
     "execution_count": 145,
     "metadata": {},
     "output_type": "execute_result"
    }
   ],
   "source": [
    "# calculate correlation\n",
    "df[np.array(df.columns)].corr()"
   ]
  },
  {
   "cell_type": "code",
   "execution_count": 172,
   "id": "4c7cc08d",
   "metadata": {},
   "outputs": [
    {
     "name": "stdout",
     "output_type": "stream",
     "text": [
      "Accuracy:  0.0733848258589086\n"
     ]
    }
   ],
   "source": [
    "# remove NaN values\n",
    "df.dropna(inplace = True)\n",
    "\n",
    "X = df.iloc[:, 0:4].values\n",
    "y = df.iloc[:, 4].values\n",
    "\n",
    "# split the data into training and testing sets\n",
    "X_train, X_test, y_train, y_test = train_test_split(X, y, test_size = 0.2)\n",
    "\n",
    "regr = LinearRegression()\n",
    "regr.fit(X_train, y_train)\n",
    "print(\"Accuracy: \", regr.score(X_test, y_test))"
   ]
  },
  {
   "cell_type": "code",
   "execution_count": null,
   "id": "e70f3e61",
   "metadata": {},
   "outputs": [],
   "source": []
  }
 ],
 "metadata": {
  "kernelspec": {
   "display_name": "Python 3",
   "language": "python",
   "name": "python3"
  },
  "language_info": {
   "codemirror_mode": {
    "name": "ipython",
    "version": 3
   },
   "file_extension": ".py",
   "mimetype": "text/x-python",
   "name": "python",
   "nbconvert_exporter": "python",
   "pygments_lexer": "ipython3",
   "version": "3.11.1"
  },
  "vscode": {
   "interpreter": {
    "hash": "a61ab81d063f92a23b3cdc8940ddec3f7aaa9dffbc4c2075f853199c1691f9f0"
   }
  }
 },
 "nbformat": 4,
 "nbformat_minor": 5
}
